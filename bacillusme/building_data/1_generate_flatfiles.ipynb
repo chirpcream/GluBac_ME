{
 "cells": [
  {
   "cell_type": "code",
   "execution_count": 1,
   "metadata": {},
   "outputs": [
    {
     "name": "stderr",
     "output_type": "stream",
     "text": [
      "/home/tanyingqi/anaconda3/envs/bacillusme/lib/python3.6/site-packages/cobra/io/sbml3.py:24: UserWarning: Install lxml for faster SBML I/O\n",
      "  warn(\"Install lxml for faster SBML I/O\")\n",
      "/home/tanyingqi/anaconda3/envs/bacillusme/lib/python3.6/site-packages/cobra/io/__init__.py:12: UserWarning: cobra.io.sbml requires libsbml\n",
      "  warn(\"cobra.io.sbml requires libsbml\")\n"
     ]
    }
   ],
   "source": [
    "import cobra\n",
    "import os\n",
    "import pandas as pd\n",
    "import numpy as np\n",
    "import urllib\n",
    "from cobrame.util import building, mu, me_model_interface\n",
    "\n",
    "## Metabolites\n",
    "\n",
    "met_output_file = 'metabolites.txt'\n",
    "m_model_file = './iCW773R.json'\n",
    "\n",
    "m_model = cobra.io.load_json_model(m_model_file)"
   ]
  },
  {
   "cell_type": "code",
   "execution_count": 2,
   "metadata": {},
   "outputs": [],
   "source": [
    "def duplicates(lst, item, counter):\n",
    "    #找到列表中除指定位置外的所有重复项的索引\n",
    "    return [i for i, x in enumerate(lst) if x == item and i != counter]\n",
    "\n",
    "def duplicate_indices(lst, item):\n",
    "    #找到列表中所有与指定元素匹配的索引\n",
    "    return [i for i, x in enumerate(lst) if x == item]\n",
    "\n",
    "def convert_compartments(compartment_list):\n",
    "    #将代谢物隔室的简写形式转换为完整形式\n",
    "    compartment_ids = ['c','e','p']\n",
    "    compartment_equivalence = ['Cytosol','Extra-organism','Periplasm']\n",
    "    \n",
    "    for c in range(0,len(compartment_list)):\n",
    "        if compartment_list[c] in compartment_ids:\n",
    "            ind = compartment_ids.index(compartment_list[c])\n",
    "            compartment_list[c] = compartment_equivalence[ind]\n",
    "            \n",
    "    return compartment_list\n",
    "\n",
    "def convert_compartment(compartment_list):\n",
    "    #将单个隔室简写形式转换为完整形式\n",
    "    compartment_ids = ['c','e','p']\n",
    "    compartment_equivalence = ['Cytosol','Extra-organism','Periplasm']\n",
    "    if compartment_list in compartment_ids:\n",
    "        ind = compartment_ids.index(compartment_list)\n",
    "        compartment_list = compartment_equivalence[ind]\n",
    "            \n",
    "    return compartment_list"
   ]
  },
  {
   "cell_type": "markdown",
   "metadata": {},
   "source": [
    "## 1. metabolites.txt"
   ]
  },
  {
   "cell_type": "code",
   "execution_count": 3,
   "metadata": {},
   "outputs": [],
   "source": [
    "def generate_metfile(m_model,filename):\n",
    "    file = open(filename,'w')\n",
    "    \n",
    "    metabolite_list = [None]*len(m_model.metabolites)\n",
    "    compartment_list = [None]*len(m_model.metabolites)\n",
    "    \n",
    "    for m in range(0,len(m_model.metabolites)):\n",
    "        ID = m_model.metabolites[m].id\n",
    "        compartment_list[m] = ID[len(ID)-1]\n",
    "        metabolite_list[m] = ID[:len(ID)-2]\n",
    "        \n",
    "    compartment_list = convert_compartments(compartment_list)\n",
    "    \n",
    "    other_mets_index = [];\n",
    "    for c in range(0,len(m_model.metabolites)):\n",
    "        if len(duplicates(other_mets_index,c,-1)) == 0:\n",
    "            met = metabolite_list[c]\n",
    "            name = m_model.metabolites[c].name\n",
    "            formula = m_model.metabolites[c].formula\n",
    "\n",
    "            other_mets_index = duplicates(metabolite_list,met,c)\n",
    "            \n",
    "            if formula is None:\n",
    "                formula = 'no-formula'\n",
    "            \n",
    "            string = met + '\\t' + name + '\\t' + formula + '\\t' + compartment_list[c]\n",
    "            for other_mets in other_mets_index:\n",
    "                string = string + ' AND ' + compartment_list[other_mets]\n",
    "            \n",
    "            string = string + '\\n'\n",
    "            file.write(string)\n",
    "    file.close()"
   ]
  },
  {
   "cell_type": "code",
   "execution_count": 4,
   "metadata": {},
   "outputs": [],
   "source": [
    "generate_metfile(m_model,'metabolites.txt')"
   ]
  },
  {
   "cell_type": "markdown",
   "metadata": {},
   "source": [
    "## reaction_matrix.txt"
   ]
  },
  {
   "cell_type": "code",
   "execution_count": 5,
   "metadata": {},
   "outputs": [],
   "source": [
    "def generate_reactionmatrix_file(m_model,filename):\n",
    "    file = open(filename,'w')\n",
    "    \n",
    "    reaction_matrix_list = []\n",
    "    \n",
    "    for rxn in m_model.reactions:\n",
    "        for metabolite in rxn.metabolites:\n",
    "            compartment = metabolite.compartment\n",
    "            compartment = convert_compartment(compartment)\n",
    "            \n",
    "            met = metabolite.id\n",
    "            met = met[:len(met)-2]\n",
    "            \n",
    "            coefficient = rxn.get_coefficient(metabolite)\n",
    "            \n",
    "            string = rxn.id + '\\t' + met + '\\t' + compartment + '\\t' + str(coefficient) + '\\n'\n",
    "            \n",
    "            file.write(string)\n",
    "\n",
    "    file.close()\n",
    "    \n",
    "    \n",
    "    "
   ]
  },
  {
   "cell_type": "code",
   "execution_count": 6,
   "metadata": {},
   "outputs": [],
   "source": [
    "generate_reactionmatrix_file(m_model,'reaction_matrix.txt')"
   ]
  },
  {
   "cell_type": "code",
   "execution_count": 7,
   "metadata": {},
   "outputs": [
    {
     "data": {
      "text/plain": [
       "{'ACP_c': 'BSU15920-MONOMER_mod_pan4p',\n",
       " 'apoACP_c': 'BSU15920-MONOMER',\n",
       " 'fmettrna_c': 'eliminate',\n",
       " 'glutrna_c': 'eliminate',\n",
       " 'mettrna_c': 'eliminate',\n",
       " 'trnaglu_c': 'eliminate',\n",
       " 'trnamet_c': 'eliminate',\n",
       " 'trdox_c': 'BSU28500-MONOMER_mod_Oxidized',\n",
       " 'trdrd_c': 'BSU28500-MONOMER'}"
      ]
     },
     "execution_count": 7,
     "metadata": {},
     "output_type": "execute_result"
    }
   ],
   "source": [
    "import pandas\n",
    "m_to_me_df = pandas.read_csv('m_to_me_mets.csv', index_col=0)\n",
    "m_to_me_dict = m_to_me_df.to_dict()['me_name']\n",
    "m_to_me_dict"
   ]
  },
  {
   "cell_type": "code",
   "execution_count": 8,
   "metadata": {},
   "outputs": [
    {
     "name": "stderr",
     "output_type": "stream",
     "text": [
      "/home/tanyingqi/anaconda3/envs/bacillusme/lib/python3.6/site-packages/ipykernel_launcher.py:2 \u001b[1;31mDeprecationWarning\u001b[0m: 'U' mode is deprecated\n"
     ]
    }
   ],
   "source": [
    "reaction_matrix_file = 'reaction_matrix.txt'\n",
    "with open(reaction_matrix_file,'U') as f:\n",
    "    newText = f.read()\n",
    "    for mets_to_replace in m_to_me_dict.keys():\n",
    "        if m_to_me_dict[mets_to_replace] == 'eliminate':\n",
    "            continue\n",
    "        met_string = '\\t' + mets_to_replace.split('_')[0] + '\\t'\n",
    "        replace_string = '\\t' + m_to_me_dict[mets_to_replace] + '\\t'\n",
    "        newText = newText.replace(met_string,replace_string)\n",
    "with open(reaction_matrix_file,'w') as f:\n",
    "    f.write(newText)"
   ]
  },
  {
   "cell_type": "markdown",
   "metadata": {},
   "source": [
    "## reactions.txt"
   ]
  },
  {
   "cell_type": "code",
   "execution_count": 11,
   "metadata": {},
   "outputs": [],
   "source": [
    "# def generate_reactions_file0(m_model,filename):\n",
    "#     file = open(filename,'w')\n",
    "    \n",
    "#     string = '#name' + '\\t' + 'description' +  '\\t' + 'is_reversible' + '\\t' + 'data_source' + '\\t' + 'is_spontaneous' +  '\\n'\n",
    "    \n",
    "#     file.write(string)\n",
    "#     reaction_matrix_list = []\n",
    "    \n",
    "#     for rxn in m_model.reactions:\n",
    "#         rev = rxn.reversibility\n",
    "#         name = rxn.name\n",
    "#         name = name.replace(' ','_')\n",
    "        \n",
    "#         if rev == True:\n",
    "#             reversibility = 1\n",
    "#         else:\n",
    "#             reversibility = 0\n",
    "        \n",
    "#         if 'diffusion' in rxn.name:\n",
    "#             is_spontaneous = 1\n",
    "#         else:\n",
    "#             is_spontaneous = 0\n",
    "        \n",
    "#         string = rxn.id + '\\t' + name + '\\t' + str(reversibility) + '\\t' + m_model.id + '\\t' + str(is_spontaneous) + '\\n'\n",
    "#         file.write(string)\n",
    "\n",
    "#     file.close()\n",
    "    \n",
    "# generate_reactions_file(m_model,'reactions.txt')"
   ]
  },
  {
   "cell_type": "code",
   "execution_count": 13,
   "metadata": {},
   "outputs": [],
   "source": [
    "# 修改后\n",
    "def generate_reactions_file(m_model, filename):\n",
    "    with open(filename, 'w') as file:\n",
    "        header = '#name\\t' + 'description\\t' + 'is_reversible\\t' + 'data_source\\t' + 'is_spontaneous\\n'\n",
    "        file.write(header)\n",
    "\n",
    "        for rxn in m_model.reactions:\n",
    "            rev = rxn.reversibility\n",
    "            name = rxn.name.replace(' ', '_')\n",
    "            reversibility = 1 if rev else 0\n",
    "            is_spontaneous = 1 if 'diffusion' in rxn.name else 0\n",
    "\n",
    "            # 检查 rxn.id 和 m_model.id 是否为 None，如果是，则替换为空字符串\n",
    "            rxn_id = rxn.id if rxn.id is not None else ''\n",
    "            m_model_id = m_model.id if m_model.id is not None else ''\n",
    "\n",
    "            # 构建字符串并写入文件\n",
    "            string = f'{rxn_id}\\t{name}\\t{reversibility}\\t{m_model_id}\\t{is_spontaneous}\\n'\n",
    "            file.write(string)\n",
    "\n",
    "# 调用函数生成 reactions.txt 文件\n",
    "generate_reactions_file(m_model, 'reactions.txt')"
   ]
  },
  {
   "cell_type": "code",
   "execution_count": null,
   "metadata": {},
   "outputs": [],
   "source": []
  }
 ],
 "metadata": {
  "kernelspec": {
   "display_name": "Python 3",
   "language": "python",
   "name": "python3"
  },
  "language_info": {
   "codemirror_mode": {
    "name": "ipython",
    "version": 3
   },
   "file_extension": ".py",
   "mimetype": "text/x-python",
   "name": "python",
   "nbconvert_exporter": "python",
   "pygments_lexer": "ipython3",
   "version": "3.6.13"
  }
 },
 "nbformat": 4,
 "nbformat_minor": 4
}
